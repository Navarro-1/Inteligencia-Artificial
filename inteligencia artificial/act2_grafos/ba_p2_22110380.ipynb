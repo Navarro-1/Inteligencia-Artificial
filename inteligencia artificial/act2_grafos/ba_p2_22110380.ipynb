{
 "cells": [
  {
   "cell_type": "code",
   "execution_count": 3,
   "metadata": {},
   "outputs": [
    {
     "name": "stdout",
     "output_type": "stream",
     "text": [
      "Aristas del árbol de expansión: [('a', 'b'), ('b', 'd'), ('d', 'c'), ('c', 'e'), ('e', 'f'), ('f', 'h'), ('e', 'g')]\n",
      "Vértices del árbol de expansión: {'c', 'h', 'f', 'g', 'd', 'a', 'e', 'b'}\n"
     ]
    }
   ],
   "source": [
    "import pandas as pd\n",
    "\n",
    "grafos=pd.read_excel(\"grafos.xlsx\", sheet_name=\"grafo1\" ,index_col=0)\n",
    "grafos=grafos. fillna(0)\n",
    "\n",
    "def be(V, E):\n",
    "    Vp = {V[0]}\n",
    "    Ep = []\n",
    "    w = V[0] #\"a\"\n",
    "\n",
    "    while True:\n",
    "        while True:\n",
    "            arista_minima = None\n",
    "            for vK in V:\n",
    "                if vK in Vp:\n",
    "                    continue\n",
    "                if grafos. loc[w, vK] > 0:\n",
    "                    if not arista_minima or grafos. loc[w, vK] < grafos. loc [arista_minima[0], arista_minima[1]]:\n",
    "                        arista_minima = (w, vK)\n",
    "\n",
    "            if arista_minima: \n",
    "                w, vK = arista_minima\n",
    "                Ep. append ((w, vK))\n",
    "                Vp. add(vK)\n",
    "                w = vK\n",
    "            else:\n",
    "                break\n",
    "        if w == V[0]:\n",
    "            return Ep, Vp\n",
    "        for u, v in Ep[::-1]:\n",
    "            if v == w:\n",
    "                w = u\n",
    "                break\n",
    "V=list(grafos. keys())\n",
    "E = []\n",
    "arbol_expansion = be(V, E)\n",
    "\n",
    "print(\"Aristas del árbol de expansión:\", arbol_expansion[0])\n",
    "print(\"Vértices del árbol de expansión:\", arbol_expansion[1])"
   ]
  }
 ],
 "metadata": {
  "kernelspec": {
   "display_name": ".venv",
   "language": "python",
   "name": "python3"
  },
  "language_info": {
   "codemirror_mode": {
    "name": "ipython",
    "version": 3
   },
   "file_extension": ".py",
   "mimetype": "text/x-python",
   "name": "python",
   "nbconvert_exporter": "python",
   "pygments_lexer": "ipython3",
   "version": "3.11.9"
  }
 },
 "nbformat": 4,
 "nbformat_minor": 2
}
